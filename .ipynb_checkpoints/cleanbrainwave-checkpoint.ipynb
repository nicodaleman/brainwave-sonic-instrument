{
 "cells": [
  {
   "cell_type": "code",
   "execution_count": 34,
   "metadata": {},
   "outputs": [
    {
     "name": "stdout",
     "output_type": "stream",
     "text": [
      "[['5.601563' '3' '1.773438' ... '3.078125' '2.65625' '0']\n",
      " ['7.546875' '5.3125' '2.75' ... '0.03125' '2.65625' '0']\n",
      " ['2.140625' '2.390625' '2.039063' ... '1.265625' '1.25' '0']\n",
      " ...\n",
      " ['2.015625' '2.09375' '1.515625' ... '0' '0.960938' '0']\n",
      " ['1.09375' '1.109375' '1.101563' ... '1.085938' '1' '16777216']\n",
      " ['0.75' '0.757813' '0.765625' ... '1.195313' '1' '16777216']]\n"
     ]
    },
    {
     "data": {
      "text/plain": [
       "\"\\ndef explore_data(dataset, start, end, rows_and_columns=False):\\n    dataset_slice = dataset[start:end]    \\n    for row in dataset_slice:\\n        print(row)\\n        print('\\n') # adds a new (empty) line after each row\\n\\n    if rows_and_columns:\\n        print('Number of rows:', len(dataset))\\n        print('Number of columns:', len(dataset[0]))\\n\\nexplore_data(data, 0,1)\\n\""
      ]
     },
     "execution_count": 34,
     "metadata": {},
     "output_type": "execute_result"
    }
   ],
   "source": [
    "import numpy as np\n",
    "import matplotlib.pyplot as plt\n",
    "from csv import reader\n",
    "\n",
    "\n",
    "read_data = reader(open(\"test_brainwave_data.csv\"))\n",
    "data = list(read_data)\n",
    "data = np.rot90(data, 3)\n",
    "data = data[3:11]\n",
    "\n",
    "import pandas as pd \n",
    "pd.DataFrame(data).to_csv(\"file.csv\")\n",
    "\n",
    "print(data)\n",
    "'''\n",
    "def explore_data(dataset, start, end, rows_and_columns=False):\n",
    "    dataset_slice = dataset[start:end]    \n",
    "    for row in dataset_slice:\n",
    "        print(row)\n",
    "        print('\\n') # adds a new (empty) line after each row\n",
    "\n",
    "    if rows_and_columns:\n",
    "        print('Number of rows:', len(dataset))\n",
    "        print('Number of columns:', len(dataset[0]))\n",
    "\n",
    "explore_data(data, 0,1)\n",
    "'''"
   ]
  },
  {
   "cell_type": "code",
   "execution_count": null,
   "metadata": {},
   "outputs": [],
   "source": []
  },
  {
   "cell_type": "code",
   "execution_count": null,
   "metadata": {},
   "outputs": [],
   "source": []
  },
  {
   "cell_type": "code",
   "execution_count": null,
   "metadata": {},
   "outputs": [],
   "source": []
  }
 ],
 "metadata": {
  "kernelspec": {
   "display_name": "Python 3",
   "language": "python",
   "name": "python3"
  },
  "language_info": {
   "codemirror_mode": {
    "name": "ipython",
    "version": 3
   },
   "file_extension": ".py",
   "mimetype": "text/x-python",
   "name": "python",
   "nbconvert_exporter": "python",
   "pygments_lexer": "ipython3",
   "version": "3.8.2"
  }
 },
 "nbformat": 4,
 "nbformat_minor": 4
}
